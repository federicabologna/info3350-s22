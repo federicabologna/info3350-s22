{
 "cells": [
  {
   "cell_type": "markdown",
   "id": "400fe12e-0c3f-4ae1-9bab-7051b5903739",
   "metadata": {},
   "source": [
    "# INFO 3350/6350\n",
    "\n",
    "## Lecture 27: Social media ethics\n",
    "\n",
    "## To do\n",
    "\n",
    "* Thursday night: HW9\n",
    "* Friday: exam/project work in section\n",
    "    * Attendance required, but can change sections to join your groupmates\n",
    "    * Exam and project guidelines on GitHub\n",
    "* Feedback on ideas from HW9 available after 5/11\n",
    "* Final exam or project due 5/19 at 11:59pm\n",
    "    * This is an exam. No slip days.\n",
    "\n",
    "## Finish lecture 26 code walkthrough\n",
    "\n",
    "## Legal issues\n",
    "\n",
    "* Contract law vs. copyright law\n",
    "    * Violation of terms of service is generally a contract issue\n",
    "    * Likely to be kicked off a service at worst\n",
    "* Copyright can be more directly significant\n",
    "    * Copyright law is an explicit social bargain: make creative work available, in return for the opportunity to profit from it via legally enforced artificial scarcity\n",
    "    * Some copying does not require authorization\n",
    "    * Four-fold test of copyright infringement:\n",
    "        * Extent of the copying\n",
    "        * Market impact on the holder\n",
    "        * Purpose of the copying (scholarship, commentary, commerce)\n",
    "        * Nature of the work (factual vs. creative)\n",
    "\n",
    "## Readings and discussion\n",
    "\n",
    "### Antoniak et al., \"Narrative Paths and Negotiation of Power in Birth Stories\"\n",
    "\n",
    "* Tell us about the project: What were the researchers trying to do and why were they trying to do it?\n",
    "* Where did the data come from? Strengths and weakensses?\n",
    "* What were some of the methods they used?\n",
    "* They discovered a few regularities in narrative structure, sentiment, and power relationships in these stories? What stood out to you? (Consider figures 3 and 5 re: narrative structure and figure 7 re: power).\n",
    "* Ethical considerations. What tensions do they identify around publicity and anonymity? What solutions do they propose and implement?\n",
    "\n",
    "### Dym and Fiesler, Fandom\n",
    "\n",
    "* What is \"amplification\"? Why can it be a problem when working with social media data?\n",
    "* Do you think that author and/or community consent should be required before researchers work with social data? Why or why not?"
   ]
  },
  {
   "cell_type": "code",
   "execution_count": null,
   "id": "0c292e92-9737-49a1-b590-481173034579",
   "metadata": {},
   "outputs": [],
   "source": []
  }
 ],
 "metadata": {
  "kernelspec": {
   "display_name": "Python 3 (ipykernel)",
   "language": "python",
   "name": "python3"
  },
  "language_info": {
   "codemirror_mode": {
    "name": "ipython",
    "version": 3
   },
   "file_extension": ".py",
   "mimetype": "text/x-python",
   "name": "python",
   "nbconvert_exporter": "python",
   "pygments_lexer": "ipython3",
   "version": "3.10.4"
  }
 },
 "nbformat": 4,
 "nbformat_minor": 5
}
